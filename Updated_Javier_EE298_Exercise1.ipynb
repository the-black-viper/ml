{
  "nbformat": 4,
  "nbformat_minor": 0,
  "metadata": {
    "colab": {
      "name": "Copy of Javier_EE298_Exercise1.ipynb",
      "provenance": [],
      "collapsed_sections": [],
      "authorship_tag": "ABX9TyMSomBF40dULtdNfOR/594k",
      "include_colab_link": true
    },
    "kernelspec": {
      "name": "python3",
      "display_name": "Python 3"
    }
  },
  "cells": [
    {
      "cell_type": "markdown",
      "metadata": {
        "id": "view-in-github",
        "colab_type": "text"
      },
      "source": [
        "<a href=\"https://colab.research.google.com/github/the-black-viper/ml/blob/main/Updated_Javier_EE298_Exercise1.ipynb\" target=\"_parent\"><img src=\"https://colab.research.google.com/assets/colab-badge.svg\" alt=\"Open In Colab\"/></a>"
      ]
    },
    {
      "cell_type": "code",
      "metadata": {
        "id": "rtaAgvEQFAX9"
      },
      "source": [
        "import numpy as np\n",
        "import matplotlib.pyplot as plt\n"
      ],
      "execution_count": 86,
      "outputs": []
    },
    {
      "cell_type": "code",
      "metadata": {
        "id": "SlHxhqzXFHNT"
      },
      "source": [
        "# Code from https://www.tensorflow.org/tutorials/text/transformer\n",
        "def get_angles(pos, i, d_model):\n",
        "  # Adjust angle rates to fit in the domain [0, 2pi]\n",
        "  angle_rates = 2*np.pi / np.power(pos, (2 * (i//2)) / np.float32(d_model))\n",
        "  return pos * angle_rates\n",
        "\n",
        "def positional_encoding(position, d_model):\n",
        "  angle_rads = get_angles(np.arange(position)[:, np.newaxis],\n",
        "                          np.arange(d_model)[np.newaxis, :],\n",
        "                          d_model)\n",
        "  \n",
        "  # apply sin to even indices in the array; 2i\n",
        "  angle_rads[:, 0::2] = np.sin(angle_rads[:, 0::2])\n",
        "  \n",
        "  # apply cos to odd indices in the array; 2i+1\n",
        "  angle_rads[:, 1::2] = np.cos(angle_rads[:, 1::2])\n",
        "\n",
        "  pos_encoding = angle_rads[np.newaxis, ...]\n",
        "  \n",
        "  return pos_encoding\n",
        "\n"
      ],
      "execution_count": 93,
      "outputs": []
    },
    {
      "cell_type": "code",
      "metadata": {
        "id": "7pVLFacgICuk",
        "outputId": "9bdd4143-d25d-402a-a1c8-45f3cefba1a0",
        "colab": {
          "base_uri": "https://localhost:8080/",
          "height": 34
        }
      },
      "source": [
        "# Create a 16x16 Positional Encoding\n",
        "tokens = 16\n",
        "dimensions = 16 # Set Dimensions\n",
        "pos_encoding = positional_encoding(tokens, dimensions)"
      ],
      "execution_count": 94,
      "outputs": [
        {
          "output_type": "stream",
          "text": [
            "(1, 16)\n"
          ],
          "name": "stdout"
        }
      ]
    },
    {
      "cell_type": "code",
      "metadata": {
        "id": "0xAOBGT9265m",
        "outputId": "7e22962c-0b00-4644-e242-e6a0a35feed9",
        "colab": {
          "base_uri": "https://localhost:8080/",
          "height": 561
        }
      },
      "source": [
        "# Check for orthogonality\n",
        "A_pos = pos_encoding[0]\n",
        "orthogonal = np.dot(A_pos.T, A_pos)\n",
        "print(orthogonal.round(2))  # The dot product test did not produce an identity matrix therefore it is not orthogonal"
      ],
      "execution_count": 102,
      "outputs": [
        {
          "output_type": "stream",
          "text": [
            "[[ 0.   -0.    0.    0.   -0.    0.   -0.   -0.    0.    0.    0.   -0.\n",
            "  -0.   -0.   -0.   -0.  ]\n",
            " [-0.   16.   -0.99  0.34  0.    0.    0.8   0.57  0.   -0.    0.87 -0.45\n",
            "  -0.   -0.    3.    1.83]\n",
            " [ 0.   -0.99  7.63  0.3  -0.    0.45  0.52  0.47  1.73 -2.98  0.91 -0.51\n",
            "   0.33 -1.15 -0.51 -0.  ]\n",
            " [ 0.    0.34  0.3   8.37 -0.    1.3  -0.33  0.05 -2.61 -0.97 -0.37  0.08\n",
            "  -0.5   0.24 -0.26  0.72]\n",
            " [-0.    0.   -0.   -0.    0.   -0.    0.    0.   -0.    0.   -0.    0.\n",
            "   0.    0.    0.   -0.  ]\n",
            " [ 0.    0.    0.45  1.3  -0.   16.   -1.15  1.62  0.    0.    0.28  0.54\n",
            "   0.   -0.   -0.52  0.86]\n",
            " [-0.    0.8   0.52 -0.33  0.   -1.15  7.83 -0.49 -0.69  1.44 -0.72  0.36\n",
            "  -0.22  0.89  0.42 -0.14]\n",
            " [-0.    0.57  0.47  0.05  0.    1.62 -0.49  8.17 -1.28  0.23 -0.5   0.27\n",
            "  -0.42  0.52 -0.07  0.51]\n",
            " [ 0.    0.    1.73 -2.61 -0.    0.   -0.69 -1.28  8.    0.    0.99  0.59\n",
            "  -0.    0.   -0.3   1.09]\n",
            " [ 0.   -0.   -2.98 -0.97  0.    0.    1.44  0.23  0.    8.   -0.09  1.15\n",
            "   0.    0.   -0.83  0.77]\n",
            " [ 0.    0.87  0.91 -0.37 -0.    0.28 -0.72 -0.5   0.99 -0.09  7.72  0.4\n",
            "  -1.18  1.34  0.45  1.47]\n",
            " [-0.   -0.45 -0.51  0.08  0.    0.54  0.36  0.27  0.59  1.15  0.4   8.28\n",
            "  -0.71 -1.24 -1.53  1.38]\n",
            " [-0.   -0.    0.33 -0.5   0.    0.   -0.22 -0.42 -0.    0.   -1.18 -0.71\n",
            "   8.    0.   -1.27  4.61]\n",
            " [-0.   -0.   -1.15  0.24  0.   -0.    0.89  0.52  0.    0.    1.34 -1.24\n",
            "   0.    8.   -3.69 -0.02]\n",
            " [-0.    3.   -0.51 -0.26  0.   -0.52  0.42 -0.07 -0.3  -0.83  0.45 -1.53\n",
            "  -1.27 -3.69  8.22  0.43]\n",
            " [-0.    1.83 -0.    0.72 -0.    0.86 -0.14  0.51  1.09  0.77  1.47  1.38\n",
            "   4.61 -0.02  0.43  7.78]]\n"
          ],
          "name": "stdout"
        }
      ]
    },
    {
      "cell_type": "code",
      "metadata": {
        "id": "_tfHl0-029F5",
        "outputId": "d488dcab-45b6-4d10-a3d4-5deb33b8872a",
        "colab": {
          "base_uri": "https://localhost:8080/",
          "height": 501
        }
      },
      "source": [
        "# Plot\n",
        "plt.figure(figsize=(12,8))\n",
        "plt.pcolormesh(A_pos, cmap='viridis')\n",
        "plt.xlabel('Embedding Dimensions')\n",
        "plt.xlim((0, dimensions))\n",
        "plt.ylim((tokens,0))\n",
        "plt.ylabel('Token Position')\n",
        "plt.colorbar()\n",
        "plt.show()"
      ],
      "execution_count": 105,
      "outputs": [
        {
          "output_type": "display_data",
          "data": {
            "image/png": "[encoded data removed]",
            "text/plain": [
              "<Figure size 864x576 with 2 Axes>"
            ]
          },
          "metadata": {
            "tags": [],
            "needs_background": "light"
          }
        }
      ]
    },
    {
      "cell_type": "code",
      "metadata": {
        "id": "H_JwIjUv3ADy"
      },
      "source": [
        "# Modified code from Marius Retegan\n",
        "def gram_schmidt(A):\n",
        "    \"\"\"Orthogonalize a set of vectors stored as the columns of matrix A.\"\"\"\n",
        "    # Get the number of vectors (This will be the # of columns(n)).\n",
        "    m, n = A.shape\n",
        "    Q =  A.astype(np.float64)\n",
        "    for j in range(n):\n",
        "      # To orthogonalize the vector in column j with respect to the\n",
        "      # previous vectors, subtract from it its projection onto\n",
        "      # each of the previous vectors.\n",
        "      for i, k in enumerate(range(j)):\n",
        "        Q[:, j] -= np.dot(Q[:, k], Q[:, j]) * Q[:, k]\n",
        "      Q[:, j] = Q[:, j]/np.linalg.norm(Q[:, j])\n",
        "    return Q"
      ],
      "execution_count": 98,
      "outputs": []
    },
    {
      "cell_type": "code",
      "metadata": {
        "id": "QRoEeGNk3E7w",
        "outputId": "cbeeb1e8-5643-4712-e27c-ec99c12abd38",
        "colab": {
          "base_uri": "https://localhost:8080/",
          "height": 289
        }
      },
      "source": [
        "Q = gram_schmidt(A_pos)\n",
        "W = np.matmul(Q.T, Q) # Sanity check, the resulting matrix is an orthonormal matrix\n",
        "print(W.round(5))"
      ],
      "execution_count": 114,
      "outputs": [
        {
          "output_type": "stream",
          "text": [
            "[[ 1.  0.  0.  0. -0. -0.  0. -0.  0.  0.  0. -0. -0. -0.  0. -0.]\n",
            " [ 0.  1.  0.  0. -0. -0.  0.  0.  0.  0.  0. -0.  0.  0.  0. -0.]\n",
            " [ 0.  0.  1.  0. -0.  0. -0. -0.  0.  0. -0.  0.  0.  0.  0. -0.]\n",
            " [ 0.  0.  0.  1.  0.  0.  0.  0.  0. -0.  0. -0. -0.  0. -0.  0.]\n",
            " [-0. -0. -0.  0.  1. -0.  0.  0.  0.  0.  0.  0. -0. -0. -0.  0.]\n",
            " [-0. -0.  0.  0. -0.  1.  0.  0. -0. -0.  0.  0.  0.  0.  0. -0.]\n",
            " [ 0.  0. -0.  0.  0.  0.  1.  0.  0.  0. -0.  0. -0.  0.  0.  0.]\n",
            " [-0.  0. -0.  0.  0.  0.  0.  1. -0.  0. -0. -0. -0. -0. -0.  0.]\n",
            " [ 0.  0.  0.  0.  0. -0.  0. -0.  1.  0.  0. -0.  0. -0. -0. -0.]\n",
            " [ 0.  0.  0. -0.  0. -0.  0.  0.  0.  1.  0.  0.  0.  0.  0. -0.]\n",
            " [ 0.  0. -0.  0.  0.  0. -0. -0.  0.  0.  1.  0. -0.  0.  0. -0.]\n",
            " [-0. -0.  0. -0.  0.  0.  0. -0. -0.  0.  0.  1.  0. -0. -0.  0.]\n",
            " [-0.  0.  0. -0. -0.  0. -0. -0.  0.  0. -0.  0.  1.  0. -0. -0.]\n",
            " [-0.  0.  0.  0. -0.  0.  0. -0. -0.  0.  0. -0.  0.  1.  0. -0.]\n",
            " [ 0.  0.  0. -0. -0.  0.  0. -0. -0.  0.  0. -0. -0.  0.  1.  0.]\n",
            " [-0. -0. -0.  0.  0. -0.  0.  0. -0. -0. -0.  0. -0. -0.  0.  1.]]\n"
          ],
          "name": "stdout"
        }
      ]
    },
    {
      "cell_type": "code",
      "metadata": {
        "id": "ivCs20M03PcC",
        "outputId": "f77a31ea-28a5-4f17-cee5-1829a4a3a866",
        "colab": {
          "base_uri": "https://localhost:8080/",
          "height": 501
        }
      },
      "source": [
        "plt.figure(figsize=(12,8))\n",
        "plt.pcolormesh(Q, cmap='viridis')\n",
        "plt.xlabel('Embedding Dimensions')\n",
        "plt.xlim((0, dimensions))\n",
        "plt.ylim((tokens, 0))\n",
        "plt.ylabel('Token Position')\n",
        "plt.colorbar()\n",
        "plt.show()"
      ],
      "execution_count": 111,
      "outputs": [
        {
          "output_type": "display_data",
          "data": {
            "image/png": "[encoded data removed]",
            "text/plain": [
              "<Figure size 864x576 with 2 Axes>"
            ]
          },
          "metadata": {
            "tags": [],
            "needs_background": "light"
          }
        }
      ]
    },
    {
      "cell_type": "code",
      "metadata": {
        "id": "qwyUR2sCQTIL"
      },
      "source": [
        ""
      ],
      "execution_count": null,
      "outputs": []
    }
  ]
}