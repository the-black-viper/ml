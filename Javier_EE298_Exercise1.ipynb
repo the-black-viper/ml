{
  "nbformat": 4,
  "nbformat_minor": 0,
  "metadata": {
    "colab": {
      "name": "Javier_EE298_Exercise1.ipynb",
      "provenance": [],
      "collapsed_sections": []
    },
    "kernelspec": {
      "name": "python3",
      "display_name": "Python 3"
    }
  },
  "cells": [
    {
      "cell_type": "code",
      "metadata": {
        "id": "rtaAgvEQFAX9"
      },
      "source": [
        "import numpy as np\n",
        "import matplotlib.pyplot as plt\n"
      ],
      "execution_count": 15,
      "outputs": []
    },
    {
      "cell_type": "code",
      "metadata": {
        "id": "SlHxhqzXFHNT"
      },
      "source": [
        "# Code from https://www.tensorflow.org/tutorials/text/transformer\n",
        "def get_angles(pos, i, d_model):\n",
        "  angle_rates = 1 / np.power(10000, (2 * (i//2)) / np.float32(d_model))\n",
        "  return pos * angle_rates\n",
        "\n",
        "def positional_encoding(position, d_model):\n",
        "  angle_rads = get_angles(np.arange(position)[:, np.newaxis],\n",
        "                          np.arange(d_model)[np.newaxis, :],\n",
        "                          d_model)\n",
        "  \n",
        "  # apply sin to even indices in the array; 2i\n",
        "  angle_rads[:, 0::2] = np.sin(angle_rads[:, 0::2])\n",
        "  \n",
        "  # apply cos to odd indices in the array; 2i+1\n",
        "  angle_rads[:, 1::2] = np.cos(angle_rads[:, 1::2])\n",
        "\n",
        "  pos_encoding = angle_rads[np.newaxis, ...]\n",
        "  \n",
        "  return pos_encoding\n",
        "\n"
      ],
      "execution_count": 16,
      "outputs": []
    },
    {
      "cell_type": "code",
      "metadata": {
        "id": "7pVLFacgICuk"
      },
      "source": [
        "# Create a 16x16 Positional Encoding\n",
        "tokens = 16\n",
        "dimensions = 16 # Set Dimensions\n",
        "pos_encoding = positional_encoding(tokens, dimensions)"
      ],
      "execution_count": 17,
      "outputs": []
    },
    {
      "cell_type": "code",
      "metadata": {
        "id": "0xAOBGT9265m"
      },
      "source": [
        "# Check for orthogonality\n",
        "A_pos = pos_encoding[0]\n",
        "orthogonal = np.dot(A_pos.T, A_pos) # The dot product test did not produce an identity matrix therefore it is not orthogonal"
      ],
      "execution_count": 18,
      "outputs": []
    },
    {
      "cell_type": "code",
      "metadata": {
        "id": "_tfHl0-029F5",
        "outputId": "a0074c31-6779-4129-c6fe-146373178228",
        "colab": {
          "base_uri": "https://localhost:8080/",
          "height": 501
        }
      },
      "source": [
        "# Plot\n",
        "plt.figure(figsize=(12,8))\n",
        "plt.pcolormesh(A_pos, cmap='viridis')\n",
        "plt.xlabel('Embedding Dimensions')\n",
        "plt.xlim((0, np.pi))\n",
        "plt.ylim((tokens,0))\n",
        "plt.ylabel('Token Position')\n",
        "plt.colorbar()\n",
        "plt.show()"
      ],
      "execution_count": 19,
      "outputs": [
        {
          "output_type": "display_data",
          "data": {
            "image/png": "[encoded data removed]",
            "text/plain": [
              "<Figure size 864x576 with 2 Axes>"
            ]
          },
          "metadata": {
            "tags": [],
            "needs_background": "light"
          }
        }
      ]
    },
    {
      "cell_type": "code",
      "metadata": {
        "id": "H_JwIjUv3ADy"
      },
      "source": [
        "def gram_schmidt(A):\n",
        "    \"\"\"Orthogonalize a set of vectors stored as the columns of matrix A.\"\"\"\n",
        "    # Get the number of vectors (This will be the # of columns(n)).\n",
        "    m, n = A.shape\n",
        "    Q =  A.astype(np.float64)\n",
        "    for j in range(n):\n",
        "      # To orthogonalize the vector in column j with respect to the\n",
        "      # previous vectors, subtract from it its projection onto\n",
        "      # each of the previous vectors.\n",
        "      for i, k in enumerate(range(j)):\n",
        "        Q[:, j] -= np.dot(Q[:, k], Q[:, j]) * Q[:, k]\n",
        "      Q[:, j] = Q[:, j]/np.linalg.norm(Q[:, j])\n",
        "    return Q"
      ],
      "execution_count": 20,
      "outputs": []
    },
    {
      "cell_type": "code",
      "metadata": {
        "id": "QRoEeGNk3E7w"
      },
      "source": [
        "Q = gram_schmidt(A_pos)\n",
        "W = np.matmul(Q.T, Q) # Sanity check, the resulting matrix is not perfectly orthonormal due to round-off errors"
      ],
      "execution_count": 21,
      "outputs": []
    },
    {
      "cell_type": "code",
      "metadata": {
        "id": "ivCs20M03PcC",
        "outputId": "92e60838-2186-4194-e71e-376e4e2b2d22",
        "colab": {
          "base_uri": "https://localhost:8080/",
          "height": 501
        }
      },
      "source": [
        "plt.figure(figsize=(12,8))\n",
        "plt.pcolormesh(Q, cmap='viridis')\n",
        "plt.xlabel('Embedding Dimensions')\n",
        "plt.xlim((0, 16))\n",
        "plt.ylim((0, 16))\n",
        "plt.ylabel('Token Position')\n",
        "plt.colorbar()\n",
        "plt.show()"
      ],
      "execution_count": 22,
      "outputs": [
        {
          "output_type": "display_data",
          "data": {
            "image/png": "[encoded data removed]",
            "text/plain": [
              "<Figure size 864x576 with 2 Axes>"
            ]
          },
          "metadata": {
            "tags": [],
            "needs_background": "light"
          }
        }
      ]
    },
    {
      "cell_type": "code",
      "metadata": {
        "id": "qwyUR2sCQTIL"
      },
      "source": [
        ""
      ],
      "execution_count": 22,
      "outputs": []
    }
  ]
}