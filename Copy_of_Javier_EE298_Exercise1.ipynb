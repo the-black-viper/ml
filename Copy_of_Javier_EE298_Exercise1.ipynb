{
  "nbformat": 4,
  "nbformat_minor": 0,
  "metadata": {
    "colab": {
      "name": "Copy of Javier_EE298_Exercise1.ipynb",
      "provenance": [],
      "collapsed_sections": [],
      "authorship_tag": "ABX9TyOsYKgopz/qxH0sBGdc64nc",
      "include_colab_link": true
    },
    "kernelspec": {
      "name": "python3",
      "display_name": "Python 3"
    }
  },
  "cells": [
    {
      "cell_type": "markdown",
      "metadata": {
        "id": "view-in-github",
        "colab_type": "text"
      },
      "source": [
        "<a href=\"https://colab.research.google.com/github/the-black-viper/ml/blob/main/Copy_of_Javier_EE298_Exercise1.ipynb\" target=\"_parent\"><img src=\"https://colab.research.google.com/assets/colab-badge.svg\" alt=\"Open In Colab\"/></a>"
      ]
    },
    {
      "cell_type": "code",
      "metadata": {
        "id": "rtaAgvEQFAX9"
      },
      "source": [
        "import numpy as np\n",
        "import matplotlib.pyplot as plt\n"
      ],
      "execution_count": 27,
      "outputs": []
    },
    {
      "cell_type": "code",
      "metadata": {
        "id": "TI4TraizZ33Q"
      },
      "source": [
        "def positional_encoding(pos, dim):\n",
        "  \"\"\"Custom positional encoding using alternate sin and cos\"\"\"\n",
        "  rate = pos*(dim//2)\n",
        "  # Initialize a square matrix\n",
        "  basis = np.zeros([pos, dim])\n",
        "  # Define the domain\n",
        "  x = np.linspace(0, 2*np.pi, rate)\n",
        "  \n",
        "  # Get the respective sin and cos vectors\n",
        "  cos_vector = np.cos(x)\n",
        "  sin_vector = np.sin(x)\n",
        "  \n",
        "  # Reshape for fitting to the basis matrix\n",
        "  reshaped_cos = cos_vector.reshape([dim//2,pos]).T\n",
        "  reshaped_sin = sin_vector.reshape([dim//2, pos]).T\n",
        "\n",
        "  # Apply sin to even indices in the array; 2i\n",
        "  basis[:, 0::2] = reshaped_sin\n",
        "  # Apply cos to odd indices in the array; 2i+1\n",
        "  basis[:, 1::2] = reshaped_cos\n",
        "  return basis"
      ],
      "execution_count": 28,
      "outputs": []
    },
    {
      "cell_type": "code",
      "metadata": {
        "id": "7pVLFacgICuk"
      },
      "source": [
        "# Create a 16x16 Positional Encoding\n",
        "tokens = 16\n",
        "dimensions = 16\n",
        "basis = positional_encoding(tokens, dimensions)"
      ],
      "execution_count": 29,
      "outputs": []
    },
    {
      "cell_type": "code",
      "metadata": {
        "id": "0xAOBGT9265m",
        "outputId": "816a7fa7-7fe0-4d23-a90c-e76a89597494",
        "colab": {
          "base_uri": "https://localhost:8080/",
          "height": 561
        }
      },
      "source": [
        "# Check for orthogonality\n",
        "orthogonal = np.dot(basis.T, basis)\n",
        "print(orthogonal.round(2))  # The dot product test did not produce an identity \n",
        "                            # matrix therefore it is not orthogonal"
      ],
      "execution_count": 30,
      "outputs": [
        {
          "output_type": "stream",
          "text": [
            "[[  2.7    4.86   5.35   1.5    4.83  -2.76   1.43  -5.37  -2.82  -4.79\n",
            "   -5.39  -1.36  -4.76   2.88  -1.3    5.41]\n",
            " [  4.86  13.3   12.88   5.89  13.24  -5.03   5.73 -12.95  -5.19 -13.18\n",
            "  -13.02  -5.57 -13.11   5.35  -5.41  13.09]\n",
            " [  5.35  12.88  12.93   5.24  12.81  -5.51   5.08 -12.99  -5.67 -12.74\n",
            "  -13.05  -4.92 -12.67   5.83  -4.76  13.11]\n",
            " [  1.5    5.89   5.24   3.07   5.87  -1.57   3.01  -5.28  -1.64  -5.85\n",
            "   -5.32  -2.94  -5.83   1.71  -2.88   5.35]\n",
            " [  4.83  13.24  12.81   5.87  13.18  -4.99   5.71 -12.88  -5.15 -13.12\n",
            "  -12.95  -5.55 -13.05   5.32  -5.39  13.02]\n",
            " [ -2.76  -5.03  -5.51  -1.57  -4.99   2.82  -1.5    5.53   2.88   4.96\n",
            "    5.55   1.43   4.92  -2.94   1.36  -5.57]\n",
            " [  1.43   5.73   5.08   3.01   5.71  -1.5    2.95  -5.12  -1.57  -5.69\n",
            "   -5.15  -2.88  -5.67   1.64  -2.82   5.19]\n",
            " [ -5.37 -12.95 -12.99  -5.28 -12.88   5.53  -5.12  13.05   5.69  12.82\n",
            "   13.12   4.96  12.74  -5.85   4.79 -13.18]\n",
            " [ -2.82  -5.19  -5.67  -1.64  -5.15   2.88  -1.57   5.69   2.95   5.12\n",
            "    5.71   1.5    5.08  -3.01   1.43  -5.73]\n",
            " [ -4.79 -13.18 -12.74  -5.85 -13.12   4.96  -5.69  12.82   5.12  13.05\n",
            "   12.88   5.53  12.99  -5.28   5.37 -12.95]\n",
            " [ -5.39 -13.02 -13.05  -5.32 -12.95   5.55  -5.15  13.12   5.71  12.88\n",
            "   13.18   4.99  12.81  -5.87   4.83 -13.24]\n",
            " [ -1.36  -5.57  -4.92  -2.94  -5.55   1.43  -2.88   4.96   1.5    5.53\n",
            "    4.99   2.82   5.51  -1.57   2.76  -5.03]\n",
            " [ -4.76 -13.11 -12.67  -5.83 -13.05   4.92  -5.67  12.74   5.08  12.99\n",
            "   12.81   5.51  12.93  -5.24   5.35 -12.88]\n",
            " [  2.88   5.35   5.83   1.71   5.32  -2.94   1.64  -5.85  -3.01  -5.28\n",
            "   -5.87  -1.57  -5.24   3.07  -1.5    5.89]\n",
            " [ -1.3   -5.41  -4.76  -2.88  -5.39   1.36  -2.82   4.79   1.43   5.37\n",
            "    4.83   2.76   5.35  -1.5    2.7   -4.86]\n",
            " [  5.41  13.09  13.11   5.35  13.02  -5.57   5.19 -13.18  -5.73 -12.95\n",
            "  -13.24  -5.03 -12.88   5.89  -4.86  13.3 ]]\n"
          ],
          "name": "stdout"
        }
      ]
    },
    {
      "cell_type": "code",
      "metadata": {
        "id": "_tfHl0-029F5",
        "outputId": "51fc5569-98e8-43fe-a720-c78cc428886c",
        "colab": {
          "base_uri": "https://localhost:8080/",
          "height": 501
        }
      },
      "source": [
        "# Plot of the initial matrix\n",
        "plt.figure(figsize=(12,8))\n",
        "plt.pcolormesh(basis, cmap='viridis')\n",
        "plt.xlabel('Embedding Dimensions')\n",
        "plt.xlim((0, dimensions))\n",
        "plt.ylim((tokens,0))\n",
        "plt.ylabel('Token Position')\n",
        "plt.colorbar()\n",
        "plt.show()"
      ],
      "execution_count": 31,
      "outputs": [
        {
          "output_type": "display_data",
          "data": {
            "image/png": "[encoded data removed]",
            "text/plain": [
              "<Figure size 864x576 with 2 Axes>"
            ]
          },
          "metadata": {
            "tags": [],
            "needs_background": "light"
          }
        }
      ]
    },
    {
      "cell_type": "code",
      "metadata": {
        "id": "H_JwIjUv3ADy"
      },
      "source": [
        "# Gram-schmidt modified from boilerplate template by Marius Retegan\n",
        "def gram_schmidt(A):\n",
        "    \"\"\"Orthogonalize a set of vectors stored as the columns of matrix A.\"\"\"\n",
        "    # Get the number of vectors (This will be the # of columns(n)).\n",
        "    m, n = A.shape  \n",
        "    Q =  A.astype(np.float64)\n",
        "    for j in range(n):\n",
        "      # To orthogonalize the vector in column j with respect to the\n",
        "      # previous vectors, subtract from it its projection onto\n",
        "      # each of the previous vectors.\n",
        "      for i, k in enumerate(range(j)):\n",
        "        Q[:, j] -= np.dot(Q[:, k], Q[:, j]) * Q[:, k]\n",
        "      Q[:, j] = Q[:, j]/np.linalg.norm(Q[:, j])\n",
        "    return Q\n"
      ],
      "execution_count": 32,
      "outputs": []
    },
    {
      "cell_type": "code",
      "metadata": {
        "id": "t-FcaVlUyFaX",
        "outputId": "20efed84-76e4-4f7e-cc1b-4221cd702221",
        "colab": {
          "base_uri": "https://localhost:8080/",
          "height": 119
        }
      },
      "source": [
        "# Test matrices for the gram-schmidt implementation\n",
        "A = np.array([1,1,1,-1,0,1,1,1,2]).reshape(3,3)\n",
        "B = np.array([1,2,4,0,0,5,0,3,6]).reshape(3,3)\n",
        "QA = gram_schmidt(A)\n",
        "ortho_a = np.matmul(QA.T, QA) # Sanity check, the resulting matrix is an identity matrix\n",
        "QB = gram_schmidt(B)          # therefore QA is orthonormal\n",
        "ortho_b = np.matmul(QB.T, QB) # Sanity check, the resulting matrix is an identity matrix\n",
        "                              # therefore QB is orthonormal\n",
        "print('A', ortho_a.round(5))\n",
        "print('B', ortho_b.round(5))"
      ],
      "execution_count": 33,
      "outputs": [
        {
          "output_type": "stream",
          "text": [
            "A [[ 1. -0.  0.]\n",
            " [-0.  1. -0.]\n",
            " [ 0. -0.  1.]]\n",
            "B [[1. 0. 0.]\n",
            " [0. 1. 0.]\n",
            " [0. 0. 1.]]\n"
          ],
          "name": "stdout"
        }
      ]
    },
    {
      "cell_type": "code",
      "metadata": {
        "id": "QRoEeGNk3E7w",
        "outputId": "bbfd6c07-4bcf-40ae-ca95-4c8eda8814ef",
        "colab": {
          "base_uri": "https://localhost:8080/",
          "height": 561
        }
      },
      "source": [
        "Q = gram_schmidt(basis) # Orthonormalize using the G-S method\n",
        "W = np.matmul(Q.T, Q) # Sanity check, the resulting matrix is not a perfect identity matrix\n",
        "print(W.round(5))     # this could be attributed to rounding errors in the CGS"
      ],
      "execution_count": 34,
      "outputs": [
        {
          "output_type": "stream",
          "text": [
            "[[ 1.      -0.       0.24222  0.0263   0.49984 -0.45217 -0.00241  0.38264\n",
            "   0.36042 -0.10072 -0.21968 -0.11161 -0.028    0.1614  -0.0456   0.17338]\n",
            " [-0.       1.      -0.07204 -0.39477 -0.09576  0.13595 -0.27848  0.65162\n",
            "  -0.21317  0.40071 -0.0215  -0.05918 -0.19751  0.08425  0.15024 -0.10165]\n",
            " [ 0.24222 -0.07204  1.       0.       0.       0.       0.       0.\n",
            "  -0.      -0.      -0.       0.      -0.       0.       0.      -0.     ]\n",
            " [ 0.0263  -0.39477  0.       1.      -0.       0.      -0.       0.\n",
            "  -0.       0.      -0.       0.      -0.       0.       0.      -0.     ]\n",
            " [ 0.49984 -0.09576  0.      -0.       1.       0.       0.      -0.\n",
            "  -0.       0.      -0.      -0.       0.      -0.      -0.       0.     ]\n",
            " [-0.45217  0.13595  0.       0.       0.       1.      -0.       0.\n",
            "  -0.      -0.      -0.      -0.      -0.       0.       0.      -0.     ]\n",
            " [-0.00241 -0.27848  0.      -0.       0.      -0.       1.      -0.\n",
            "   0.       0.      -0.       0.      -0.       0.       0.      -0.     ]\n",
            " [ 0.38264  0.65162  0.       0.      -0.       0.      -0.       1.\n",
            "  -0.       0.      -0.      -0.      -0.      -0.       0.      -0.     ]\n",
            " [ 0.36042 -0.21317 -0.      -0.      -0.      -0.       0.      -0.\n",
            "   1.       0.      -0.      -0.       0.      -0.       0.      -0.     ]\n",
            " [-0.10072  0.40071 -0.       0.       0.      -0.       0.       0.\n",
            "   0.       1.       0.       0.      -0.       0.      -0.       0.     ]\n",
            " [-0.21968 -0.0215  -0.      -0.      -0.      -0.      -0.      -0.\n",
            "  -0.       0.       1.       0.      -0.      -0.       0.      -0.     ]\n",
            " [-0.11161 -0.05918  0.       0.      -0.      -0.       0.      -0.\n",
            "  -0.       0.       0.       1.       0.      -0.      -0.      -0.     ]\n",
            " [-0.028   -0.19751 -0.      -0.       0.      -0.      -0.      -0.\n",
            "   0.      -0.      -0.       0.       1.       0.      -0.      -0.     ]\n",
            " [ 0.1614   0.08425  0.       0.      -0.       0.       0.      -0.\n",
            "  -0.       0.      -0.      -0.       0.       1.      -0.      -0.     ]\n",
            " [-0.0456   0.15024  0.       0.      -0.       0.       0.       0.\n",
            "   0.      -0.       0.      -0.      -0.      -0.       1.      -0.     ]\n",
            " [ 0.17338 -0.10165 -0.      -0.       0.      -0.      -0.      -0.\n",
            "  -0.       0.      -0.      -0.      -0.      -0.      -0.       1.     ]]\n"
          ],
          "name": "stdout"
        }
      ]
    },
    {
      "cell_type": "code",
      "metadata": {
        "id": "ivCs20M03PcC",
        "outputId": "a0f756f9-97c6-4c1f-b585-b68a81d6d252",
        "colab": {
          "base_uri": "https://localhost:8080/",
          "height": 501
        }
      },
      "source": [
        "# Plot of the new matrix\n",
        "plt.figure(figsize=(12,8))\n",
        "plt.pcolormesh(Q, cmap='viridis')\n",
        "plt.xlabel('Embedding Dimensions')\n",
        "plt.xlim((0, dimensions))\n",
        "plt.ylim((tokens, 0))\n",
        "plt.ylabel('Token Position')\n",
        "plt.colorbar()\n",
        "plt.show()"
      ],
      "execution_count": 35,
      "outputs": [
        {
          "output_type": "display_data",
          "data": {
            "image/png": "[encoded data removed]",
            "text/plain": [
              "<Figure size 864x576 with 2 Axes>"
            ]
          },
          "metadata": {
            "tags": [],
            "needs_background": "light"
          }
        }
      ]
    }
  ]
}